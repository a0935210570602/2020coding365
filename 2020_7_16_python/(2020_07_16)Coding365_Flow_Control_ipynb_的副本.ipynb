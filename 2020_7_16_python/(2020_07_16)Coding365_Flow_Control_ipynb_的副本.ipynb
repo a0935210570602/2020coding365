{
  "nbformat": 4,
  "nbformat_minor": 0,
  "metadata": {
    "colab": {
      "name": "(2020/07/16)Coding365_Flow_Control.ipynb 的副本",
      "provenance": [],
      "collapsed_sections": []
    },
    "kernelspec": {
      "name": "python3",
      "display_name": "Python 3"
    },
    "accelerator": "GPU"
  },
  "cells": [
    {
      "cell_type": "markdown",
      "metadata": {
        "id": "NY7OURTyb77a",
        "colab_type": "text"
      },
      "source": [
        "##**Python Commenting Basics**"
      ]
    },
    {
      "cell_type": "code",
      "metadata": {
        "id": "DBbseVo4UH3c",
        "colab_type": "code",
        "colab": {
          "base_uri": "https://localhost:8080/",
          "height": 34
        },
        "outputId": "d17153e6-b4db-45f4-c86a-cb2802f493a6"
      },
      "source": [
        "# This is a single comment. Welcome to Coding365!!!!\n",
        "\n",
        "'''\n",
        "This is a multi-line comment\n",
        "Welcome to Coding365!!!\n",
        "'''\n",
        "\n",
        "print('Welcome to Coding365!!!')"
      ],
      "execution_count": null,
      "outputs": [
        {
          "output_type": "stream",
          "text": [
            "Welcome to Coding365!!!\n"
          ],
          "name": "stdout"
        }
      ]
    },
    {
      "cell_type": "markdown",
      "metadata": {
        "id": "CONewe1ctHFf",
        "colab_type": "text"
      },
      "source": [
        "#**The if Statement**"
      ]
    },
    {
      "cell_type": "code",
      "metadata": {
        "id": "b8Ulw1iWNH3n",
        "colab_type": "code",
        "colab": {
          "base_uri": "https://localhost:8080/",
          "height": 34
        },
        "outputId": "1d60ff19-3984-4411-d225-4dee1725aa17"
      },
      "source": [
        "number = 10\n",
        "if number > 20:\n",
        "  print(\"the number is greater than 20\")\n",
        "print(\"END!\")"
      ],
      "execution_count": null,
      "outputs": [
        {
          "output_type": "stream",
          "text": [
            "END!\n"
          ],
          "name": "stdout"
        }
      ]
    },
    {
      "cell_type": "code",
      "metadata": {
        "id": "nOUkB1IXOpwF",
        "colab_type": "code",
        "colab": {
          "base_uri": "https://localhost:8080/",
          "height": 51
        },
        "outputId": "d5fc7e27-dd00-402a-c204-2fa440a83064"
      },
      "source": [
        "number = 21\n",
        "if number > 20:\n",
        "  print(\"the number is greater than 20\")\n",
        "print(\"END!\")"
      ],
      "execution_count": null,
      "outputs": [
        {
          "output_type": "stream",
          "text": [
            "the number is greater than 20\n",
            "END!\n"
          ],
          "name": "stdout"
        }
      ]
    },
    {
      "cell_type": "code",
      "metadata": {
        "id": "usgyw6lgNIZW",
        "colab_type": "code",
        "colab": {
          "base_uri": "https://localhost:8080/",
          "height": 51
        },
        "outputId": "cf157904-491b-40d2-c329-7499af45b6da"
      },
      "source": [
        "number = 10\n",
        "if number > 20:\n",
        "  print(\"the number is greater than 20\")\n",
        "else:\n",
        "  print(\"the number is less than 20\")\n",
        "print(\"END!\")"
      ],
      "execution_count": null,
      "outputs": [
        {
          "output_type": "stream",
          "text": [
            "the number is less than 20\n",
            "END!\n"
          ],
          "name": "stdout"
        }
      ]
    },
    {
      "cell_type": "code",
      "metadata": {
        "id": "NJU6FaYarx54",
        "colab_type": "code",
        "colab": {
          "base_uri": "https://localhost:8080/",
          "height": 51
        },
        "outputId": "fd359824-3aa0-47c6-bdd4-6d6b111916ba"
      },
      "source": [
        "input_score = input('please input your score: ')\n",
        "input_score = float(input_score)\n",
        "if input_score >= 90:\n",
        "  print(\"Nice!\")\n",
        "elif input_score >= 60:\n",
        "  print(\"Pass!\")\n",
        "else:\n",
        "  print(\"Failed!!!\")"
      ],
      "execution_count": null,
      "outputs": [
        {
          "output_type": "stream",
          "text": [
            "please input your score: 59.9\n",
            "Failed!!!\n"
          ],
          "name": "stdout"
        }
      ]
    },
    {
      "cell_type": "code",
      "metadata": {
        "id": "2qHnVPwvPGXd",
        "colab_type": "code",
        "colab": {
          "base_uri": "https://localhost:8080/",
          "height": 51
        },
        "outputId": "a8845c52-55f7-4556-b78b-dff4d284e77a"
      },
      "source": [
        "input_score = input('please input your score: ')\n",
        "input_score = float(input_score)\n",
        "if input_score >= 90:\n",
        "  print(\"Perfect\")\n",
        "elif input_score >= 80:\n",
        "  print(\"Excellent\")\n",
        "elif input_score >= 70:\n",
        "  print(\"Nice\")\n",
        "elif input_score >= 60:\n",
        "  print(\"Pass!\")\n",
        "else:\n",
        "  print(\"Failed!!!\")"
      ],
      "execution_count": null,
      "outputs": [
        {
          "output_type": "stream",
          "text": [
            "please input your score: 85\n",
            "Excellent\n"
          ],
          "name": "stdout"
        }
      ]
    },
    {
      "cell_type": "code",
      "metadata": {
        "id": "_1rLBsqKSGLy",
        "colab_type": "code",
        "colab": {
          "base_uri": "https://localhost:8080/",
          "height": 68
        },
        "outputId": "9c19fd13-e02c-42ef-fc68-9e1e32697b8e"
      },
      "source": [
        "input_gender = input('please input your gender(f or m): ')\n",
        "\n",
        "if input_gender == 'f' or input_gender == 'm':\n",
        "\n",
        "  input_age = input('please input your age: ')\n",
        "  is_int = input_age.isdigit()\n",
        "  \n",
        "  if is_int:\n",
        "    input_age = int(input_age)\n",
        "\n",
        "    if input_gender == 'f' and input_age < 30 :\n",
        "      print(\"Hey! Young lady!\")\n",
        "    elif input_gender == 'm' and not input_age >= 30 :\n",
        "      print(\"Hey! Young man!\")\n",
        "    else :\n",
        "      print(\"Hey! Old people!\")\n",
        "\n",
        "  else:\n",
        "    print(\"OH! Please input correct age!\")\n",
        "\n",
        "else :\n",
        "  print(\"OH! Please input f(female) or m(male), thx!\")"
      ],
      "execution_count": null,
      "outputs": [
        {
          "output_type": "stream",
          "text": [
            "please input your gender(f or m): m\n",
            "please input your age: 30\n",
            "Hey! Old people!\n"
          ],
          "name": "stdout"
        }
      ]
    },
    {
      "cell_type": "markdown",
      "metadata": {
        "id": "-NH9bHN7uEIW",
        "colab_type": "text"
      },
      "source": [
        "#**The while Statement**"
      ]
    },
    {
      "cell_type": "code",
      "metadata": {
        "id": "NLBb3A-dtqtp",
        "colab_type": "code",
        "colab": {
          "base_uri": "https://localhost:8080/",
          "height": 119
        },
        "outputId": "ed4a5ed8-a710-4069-f89f-dd2972c84b1d"
      },
      "source": [
        "timer = 5\n",
        "while timer > 0: \n",
        "  print(timer)\n",
        "  timer = timer - 1\n",
        "else:\n",
        "  print(\"Boom!\")"
      ],
      "execution_count": null,
      "outputs": [
        {
          "output_type": "stream",
          "text": [
            "5\n",
            "4\n",
            "3\n",
            "2\n",
            "1\n",
            "Boom!\n"
          ],
          "name": "stdout"
        }
      ]
    },
    {
      "cell_type": "markdown",
      "metadata": {
        "id": "2SjyFRbWup81",
        "colab_type": "text"
      },
      "source": [
        "##**Use break command**"
      ]
    },
    {
      "cell_type": "code",
      "metadata": {
        "id": "SUFWTnuyuK1Q",
        "colab_type": "code",
        "colab": {
          "base_uri": "https://localhost:8080/",
          "height": 119
        },
        "outputId": "08dfbf1c-4cfd-479f-a061-f27bf98ed627"
      },
      "source": [
        "while True:\n",
        "  input_string = input(\"String to capitalize [type q to quit]:\")\n",
        "  if input_string == \"q\":\n",
        "      print(\"quit the program !\")\n",
        "      break\n",
        "  print(input_string.capitalize())  #capitalize method: change the letter into captical letter"
      ],
      "execution_count": null,
      "outputs": [
        {
          "output_type": "stream",
          "text": [
            "String to capitalize [type q to quit]:abcdef\n",
            "Abcdef\n",
            "String to capitalize [type q to quit]:qwert\n",
            "Qwert\n",
            "String to capitalize [type q to quit]:q\n",
            "quit the program !\n"
          ],
          "name": "stdout"
        }
      ]
    },
    {
      "cell_type": "markdown",
      "metadata": {
        "id": "MXXZ_zDPvtzj",
        "colab_type": "text"
      },
      "source": [
        "##**Use continue command**"
      ]
    },
    {
      "cell_type": "code",
      "metadata": {
        "id": "u7di5zmuuvr8",
        "colab_type": "code",
        "colab": {
          "base_uri": "https://localhost:8080/",
          "height": 102
        },
        "outputId": "a5699064-c120-4580-c3e9-4c43677492df"
      },
      "source": [
        "while True:\n",
        "  value = input(\"Integer, please [type q to quit]:\")  #wait to type the number\n",
        "  if value == \"q\":  # quit\n",
        "    print(\"quit the program !\")\n",
        "    break\n",
        "  number = int(value)\n",
        "  if number % 2 == 0: # an even number \n",
        "    continue\n",
        "  print(number, \"squared is\", number*number)"
      ],
      "execution_count": null,
      "outputs": [
        {
          "output_type": "stream",
          "text": [
            "Integer, please [type q to quit]:5\n",
            "5 squared is 25\n",
            "Integer, please [type q to quit]:2\n",
            "Integer, please [type q to quit]:q\n",
            "quit the program !\n"
          ],
          "name": "stdout"
        }
      ]
    },
    {
      "cell_type": "code",
      "metadata": {
        "id": "xKYZJIVIJSQa",
        "colab_type": "code",
        "colab": {
          "base_uri": "https://localhost:8080/",
          "height": 51
        },
        "outputId": "fb26a689-a955-44b2-d801-bee2a85a5123"
      },
      "source": [
        "i = 0\n",
        "while i < 5:\n",
        "  i = i +1\n",
        "  if i == 3:\n",
        "    break\n",
        "  print(i)"
      ],
      "execution_count": null,
      "outputs": [
        {
          "output_type": "stream",
          "text": [
            "1\n",
            "2\n"
          ],
          "name": "stdout"
        }
      ]
    },
    {
      "cell_type": "markdown",
      "metadata": {
        "id": "2I01LGDf0NGr",
        "colab_type": "text"
      },
      "source": [
        "#**The for Statement**"
      ]
    },
    {
      "cell_type": "code",
      "metadata": {
        "id": "ZoOMtKHL0o1h",
        "colab_type": "code",
        "colab": {
          "base_uri": "https://localhost:8080/",
          "height": 119
        },
        "outputId": "df690de2-d18a-44e4-e718-1c0eac60cb6f"
      },
      "source": [
        "# for loop example \n",
        "for count in range(5, 0, -1):\n",
        "  print(count)\n",
        "else:\n",
        "  print(\"Boom!\")"
      ],
      "execution_count": null,
      "outputs": [
        {
          "output_type": "stream",
          "text": [
            "5\n",
            "4\n",
            "3\n",
            "2\n",
            "1\n",
            "Boom!\n"
          ],
          "name": "stdout"
        }
      ]
    },
    {
      "cell_type": "code",
      "metadata": {
        "id": "tP13ESyknMn5",
        "colab_type": "code",
        "colab": {
          "base_uri": "https://localhost:8080/",
          "height": 119
        },
        "outputId": "46d642d5-304c-4173-d8c3-9a02e91bee16"
      },
      "source": [
        "for i in range(3):\n",
        "  input_string = input(\"String to capitalize [type q to quit]:\")\n",
        "  if input_string == \"q\":\n",
        "      print(\"quit the program !\")\n",
        "      break\n",
        "  print(input_string.capitalize())  #capitalize method: change the letter into captical letter"
      ],
      "execution_count": null,
      "outputs": [
        {
          "output_type": "stream",
          "text": [
            "String to capitalize [type q to quit]:a\n",
            "A\n",
            "String to capitalize [type q to quit]:v\n",
            "V\n",
            "String to capitalize [type q to quit]:q\n",
            "quit the program !\n"
          ],
          "name": "stdout"
        }
      ]
    },
    {
      "cell_type": "code",
      "metadata": {
        "id": "vTFdPr_9noXJ",
        "colab_type": "code",
        "colab": {
          "base_uri": "https://localhost:8080/",
          "height": 85
        },
        "outputId": "1f81afb9-a022-4785-f434-eb9e5804314d"
      },
      "source": [
        "for i in range(3):\n",
        "  value = input(\"Integer, please [type q to quit]:\")  #wait to type the number\n",
        "  if value == \"q\":  # quit\n",
        "    print(\"quit the program !\")\n",
        "    break\n",
        "  number = int(value)\n",
        "  if number % 2 == 0: # an even number \n",
        "    continue\n",
        "  print(number, \"squared is\", number*number)"
      ],
      "execution_count": null,
      "outputs": [
        {
          "output_type": "stream",
          "text": [
            "Integer, please [type q to quit]:2\n",
            "Integer, please [type q to quit]:3\n",
            "3 squared is 9\n",
            "Integer, please [type q to quit]:4\n"
          ],
          "name": "stdout"
        }
      ]
    },
    {
      "cell_type": "markdown",
      "metadata": {
        "id": "iaiiZEU21GBA",
        "colab_type": "text"
      },
      "source": [
        "#**Practice**"
      ]
    },
    {
      "cell_type": "code",
      "metadata": {
        "id": "ktWYy3eNM-oJ",
        "colab_type": "code",
        "colab": {
          "base_uri": "https://localhost:8080/",
          "height": 170
        },
        "outputId": "599c3689-77f8-4662-a269-9e9fb7d6b70d"
      },
      "source": [
        "# triangle shape\n",
        "for i in range(1, 10):\n",
        "  print(\"*\"*i)"
      ],
      "execution_count": null,
      "outputs": [
        {
          "output_type": "stream",
          "text": [
            "*\n",
            "**\n",
            "***\n",
            "****\n",
            "*****\n",
            "******\n",
            "*******\n",
            "********\n",
            "*********\n"
          ],
          "name": "stdout"
        }
      ]
    },
    {
      "cell_type": "code",
      "metadata": {
        "id": "zWlQy5RpTTZ6",
        "colab_type": "code",
        "colab": {
          "base_uri": "https://localhost:8080/",
          "height": 170
        },
        "outputId": "52010a34-93d9-44b7-caa6-af262eee6fe8"
      },
      "source": [
        "# triangle shape\n",
        "for i in range(1, 10):\n",
        "  print(\" \"*(10-i) + \"*\"*i)"
      ],
      "execution_count": null,
      "outputs": [
        {
          "output_type": "stream",
          "text": [
            "         *\n",
            "        **\n",
            "       ***\n",
            "      ****\n",
            "     *****\n",
            "    ******\n",
            "   *******\n",
            "  ********\n",
            " *********\n"
          ],
          "name": "stdout"
        }
      ]
    },
    {
      "cell_type": "code",
      "metadata": {
        "id": "FyNqc1l5XIeg",
        "colab_type": "code",
        "colab": {
          "base_uri": "https://localhost:8080/",
          "height": 170
        },
        "outputId": "bd34ac10-2f7e-48d4-f95f-317167cad128"
      },
      "source": [
        "space = 9\n",
        "for i in range(1, 18, 2):\n",
        "  print(\" \"*space + i*\"*\")\n",
        "  space = space -1"
      ],
      "execution_count": null,
      "outputs": [
        {
          "output_type": "stream",
          "text": [
            "         *\n",
            "        ***\n",
            "       *****\n",
            "      *******\n",
            "     *********\n",
            "    ***********\n",
            "   *************\n",
            "  ***************\n",
            " *****************\n"
          ],
          "name": "stdout"
        }
      ]
    },
    {
      "cell_type": "code",
      "metadata": {
        "id": "LvlncrLYavR2",
        "colab_type": "code",
        "colab": {
          "base_uri": "https://localhost:8080/",
          "height": 170
        },
        "outputId": "374ad0be-6bc1-46f5-97ce-f1bfbab4281e"
      },
      "source": [
        "for i in range(1, 10):\n",
        "  print(\" \"*(10 - i) + \"*\"*i + \"*\"*(i-1))"
      ],
      "execution_count": null,
      "outputs": [
        {
          "output_type": "stream",
          "text": [
            "         *\n",
            "        ***\n",
            "       *****\n",
            "      *******\n",
            "     *********\n",
            "    ***********\n",
            "   *************\n",
            "  ***************\n",
            " *****************\n"
          ],
          "name": "stdout"
        }
      ]
    },
    {
      "cell_type": "markdown",
      "metadata": {
        "id": "XYTpJ7p9Y0Hy",
        "colab_type": "text"
      },
      "source": [
        "## if you finish all practices, try to print the shape of Christmas tree."
      ]
    },
    {
      "cell_type": "code",
      "metadata": {
        "id": "Y4AoM5EeayZG",
        "colab_type": "code",
        "colab": {
          "base_uri": "https://localhost:8080/",
          "height": 284
        },
        "outputId": "c7e4a7f7-95d9-4e34-b783-9f6c871e8019"
      },
      "source": [
        "for i in range(2, 5):\n",
        "  for j in range(1, i*2):\n",
        "      print(\" \"*(5*2-1-j)+\"*\"*(j*2-1))\n",
        "  "
      ],
      "execution_count": 12,
      "outputs": [
        {
          "output_type": "stream",
          "text": [
            "        *\n",
            "       ***\n",
            "      *****\n",
            "        *\n",
            "       ***\n",
            "      *****\n",
            "     *******\n",
            "    *********\n",
            "        *\n",
            "       ***\n",
            "      *****\n",
            "     *******\n",
            "    *********\n",
            "   ***********\n",
            "  *************\n"
          ],
          "name": "stdout"
        }
      ]
    },
    {
      "cell_type": "markdown",
      "metadata": {
        "id": "aWgLal6yazeW",
        "colab_type": "text"
      },
      "source": [
        "## if you finish all practices, try to print the shape of Diamond."
      ]
    },
    {
      "cell_type": "code",
      "metadata": {
        "id": "jFqCZrjMa3aG",
        "colab_type": "code",
        "colab": {
          "base_uri": "https://localhost:8080/",
          "height": 355
        },
        "outputId": "55e941ce-95d7-43db-dd25-52227abc5144"
      },
      "source": [
        "for i in range(1, 11):\n",
        "  print(\" \"*(11-1-i)+\"*\"*(i*2-1))\n",
        "for i in range(1, 10):\n",
        "  print(\" \"*i+\"*\"*((10-i)*2-1))"
      ],
      "execution_count": 20,
      "outputs": [
        {
          "output_type": "stream",
          "text": [
            "         *\n",
            "        ***\n",
            "       *****\n",
            "      *******\n",
            "     *********\n",
            "    ***********\n",
            "   *************\n",
            "  ***************\n",
            " *****************\n",
            "*******************\n",
            " *****************\n",
            "  ***************\n",
            "   *************\n",
            "    ***********\n",
            "     *********\n",
            "      *******\n",
            "       *****\n",
            "        ***\n",
            "         *\n"
          ],
          "name": "stdout"
        }
      ]
    },
    {
      "cell_type": "markdown",
      "metadata": {
        "id": "q2sKAXjca4wx",
        "colab_type": "text"
      },
      "source": [
        "## if you finish all practices, try to design the program that the user input a number n, then design the multiplication table of n*n"
      ]
    },
    {
      "cell_type": "code",
      "metadata": {
        "id": "2c_e91JQa6i0",
        "colab_type": "code",
        "colab": {
          "base_uri": "https://localhost:8080/",
          "height": 390
        },
        "outputId": "50161f18-571f-44ac-ef77-82fccabd5d17"
      },
      "source": [
        "number = int(input(\"please input a number: \")) \n",
        "for i in range(1, number+1):\n",
        "  for j in range(0, number+1):\n",
        "    print(i,\"*\",j,\" = \",i*j)"
      ],
      "execution_count": 32,
      "outputs": [
        {
          "output_type": "stream",
          "text": [
            "please input a number: 4\n",
            "1 * 0  =  0\n",
            "1 * 1  =  1\n",
            "1 * 2  =  2\n",
            "1 * 3  =  3\n",
            "1 * 4  =  4\n",
            "2 * 0  =  0\n",
            "2 * 1  =  2\n",
            "2 * 2  =  4\n",
            "2 * 3  =  6\n",
            "2 * 4  =  8\n",
            "3 * 0  =  0\n",
            "3 * 1  =  3\n",
            "3 * 2  =  6\n",
            "3 * 3  =  9\n",
            "3 * 4  =  12\n",
            "4 * 0  =  0\n",
            "4 * 1  =  4\n",
            "4 * 2  =  8\n",
            "4 * 3  =  12\n",
            "4 * 4  =  16\n"
          ],
          "name": "stdout"
        }
      ]
    }
  ]
}