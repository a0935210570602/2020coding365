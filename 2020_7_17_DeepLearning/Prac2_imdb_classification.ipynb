{
  "nbformat": 4,
  "nbformat_minor": 0,
  "metadata": {
    "colab": {
      "name": "Prac2_imdb_classification.ipynb",
      "provenance": [],
      "collapsed_sections": []
    },
    "kernelspec": {
      "name": "python3",
      "display_name": "Python 3"
    },
    "accelerator": "GPU"
  },
  "cells": [
    {
      "cell_type": "code",
      "metadata": {
        "id": "ggGqoPu-knn6",
        "colab_type": "code",
        "colab": {}
      },
      "source": [
        "import numpy as np\n",
        "import matplotlib.pyplot as plt\n",
        "from tensorflow.keras.datasets import imdb\n",
        "from tensorflow.keras import models,layers\n",
        "from tensorflow import keras \n",
        "import tensorflow as tf\n"
      ],
      "execution_count": 1,
      "outputs": []
    },
    {
      "cell_type": "code",
      "metadata": {
        "id": "i_sCiS7lkxtv",
        "colab_type": "code",
        "colab": {}
      },
      "source": [
        "(train_data, train_labels), (test_data, test_labels) = imdb.load_data(num_words=10000) # Keep only top 10,000 most frequently words"
      ],
      "execution_count": 2,
      "outputs": []
    },
    {
      "cell_type": "code",
      "metadata": {
        "id": "YJC6AagFlSH1",
        "colab_type": "code",
        "colab": {}
      },
      "source": [
        "word_index = imdb.get_word_index() # word_index is a dictionary mapping words to an integer index.\n",
        "reverse_word_index = dict([(value, key) for (key, value) in word_index.items()]) # Reverses it, mapping integer indices to words"
      ],
      "execution_count": 3,
      "outputs": []
    },
    {
      "cell_type": "code",
      "metadata": {
        "id": "usnqxMvAv-Ko",
        "colab_type": "code",
        "colab": {
          "base_uri": "https://localhost:8080/",
          "height": 55
        },
        "outputId": "68d85ed0-b160-4163-e5fe-99f988f2a84f"
      },
      "source": [
        "# Decodes the review to read the content. Note that the indcies are offset by 3,\n",
        "# becuase 0, 1, 2 are reserved indices for \"padding\", \"start of sequence,\" and \"Unknown\" \n",
        "decoded_review = ' '.join([reverse_word_index.get(i-3, '?') for i in train_data[100]])\n",
        "print(decoded_review)"
      ],
      "execution_count": 4,
      "outputs": [
        {
          "output_type": "stream",
          "text": [
            "? i am a great fan of david lynch and have everything that he's made on dvd except for hotel room the 2 hour twin peaks movie so when i found out about this i immediately grabbed it and and what is this it's a bunch of ? drawn black and white cartoons that are loud and foul mouthed and unfunny maybe i don't know what's good but maybe this is just a bunch of crap that was ? on the public under the name of david lynch to make a few bucks too let me make it clear that i didn't care about the foul language part but had to keep ? the sound because my neighbors might have all in all this is a highly disappointing release and may well have just been left in the ? box set as a curiosity i highly recommend you don't spend your money on this 2 out of 10\n"
          ],
          "name": "stdout"
        }
      ]
    },
    {
      "cell_type": "code",
      "metadata": {
        "id": "nOfK_gyhmZVc",
        "colab_type": "code",
        "colab": {}
      },
      "source": [
        "# one-hot encoding\n",
        "def vectorize_sequences(sequences, dimension=10000):\n",
        "  results = np.zeros((len(sequences), dimension))\n",
        "  for i, sequence in enumerate(sequences):\n",
        "    results[i, sequence] = 1\n",
        "  return results"
      ],
      "execution_count": 5,
      "outputs": []
    },
    {
      "cell_type": "code",
      "metadata": {
        "id": "78Z3iRNBpiwl",
        "colab_type": "code",
        "colab": {}
      },
      "source": [
        "x_train = vectorize_sequences(train_data)\n",
        "x_test = vectorize_sequences(test_data)"
      ],
      "execution_count": 6,
      "outputs": []
    },
    {
      "cell_type": "code",
      "metadata": {
        "id": "zCMXwyRzxjxf",
        "colab_type": "code",
        "colab": {}
      },
      "source": [
        "y_train = np.asarray(train_labels).astype('float32')\n",
        "y_test = np.asarray(test_labels).astype('float32')"
      ],
      "execution_count": 7,
      "outputs": []
    },
    {
      "cell_type": "code",
      "metadata": {
        "id": "8EVxAAr-x3RP",
        "colab_type": "code",
        "colab": {
          "base_uri": "https://localhost:8080/",
          "height": 390
        },
        "outputId": "beed53fa-31d5-48b8-8be8-0b0b513c5704"
      },
      "source": [
        "# use keras API to create your own model\n",
        "# Hint: Input should match the Input shape\n",
        "x_train[0][0:30]\n",
        "from keras.models import Sequential\n",
        "from keras.layers.core import Dense, Dropout, Activation\n",
        "from keras.layers.embeddings import Embedding\n",
        "from keras.layers.recurrent import SimpleRNN\n",
        "\n",
        "# Build a simple model\n",
        "inputs = keras.Input(shape=(10000))\n",
        "x = layers.experimental.preprocessing.Rescaling(1.0 / 255)(inputs)\n",
        "x = layers.Flatten()(x)\n",
        "x = layers.Dense(16, activation=\"relu\")(x)\n",
        "x = layers.Dense(16, activation=\"relu\")(x)\n",
        "outputs = layers.Dense(2, activation=\"softmax\")(x)\n",
        "model = keras.Model(inputs, outputs)\n",
        "model.summary()\n",
        "\n",
        "# Compile the model\n",
        "model.compile(optimizer=\"adam\", loss=\"sparse_categorical_crossentropy\",metrics=['accuracy'])\n"
      ],
      "execution_count": 8,
      "outputs": [
        {
          "output_type": "stream",
          "text": [
            "Using TensorFlow backend.\n"
          ],
          "name": "stderr"
        },
        {
          "output_type": "stream",
          "text": [
            "Model: \"model\"\n",
            "_________________________________________________________________\n",
            "Layer (type)                 Output Shape              Param #   \n",
            "=================================================================\n",
            "input_1 (InputLayer)         [(None, 10000)]           0         \n",
            "_________________________________________________________________\n",
            "rescaling (Rescaling)        (None, 10000)             0         \n",
            "_________________________________________________________________\n",
            "flatten (Flatten)            (None, 10000)             0         \n",
            "_________________________________________________________________\n",
            "dense (Dense)                (None, 16)                160016    \n",
            "_________________________________________________________________\n",
            "dense_1 (Dense)              (None, 4)                 68        \n",
            "_________________________________________________________________\n",
            "dense_2 (Dense)              (None, 2)                 10        \n",
            "=================================================================\n",
            "Total params: 160,094\n",
            "Trainable params: 160,094\n",
            "Non-trainable params: 0\n",
            "_________________________________________________________________\n"
          ],
          "name": "stdout"
        }
      ]
    },
    {
      "cell_type": "code",
      "metadata": {
        "id": "QqQcMWg8zlBe",
        "colab_type": "code",
        "colab": {
          "base_uri": "https://localhost:8080/",
          "height": 408
        },
        "outputId": "11064f53-49cb-407c-ad10-08610eda41bc"
      },
      "source": [
        "history = model.fit(x_train, y_train, batch_size=128, epochs=20,validation_data=(x_test, y_test))\n",
        "print(\"Accuracy: %.2f\" % acc)"
      ],
      "execution_count": null,
      "outputs": [
        {
          "output_type": "stream",
          "text": [
            "Epoch 1/20\n",
            "40/40 [==============================] - 2s 43ms/step - loss: 0.6928 - accuracy: 0.5910 - val_loss: 0.6922 - val_accuracy: 0.7144\n",
            "Epoch 2/20\n",
            "40/40 [==============================] - 2s 39ms/step - loss: 0.6913 - accuracy: 0.6572 - val_loss: 0.6904 - val_accuracy: 0.8084\n",
            "Epoch 3/20\n",
            "40/40 [==============================] - 2s 39ms/step - loss: 0.6882 - accuracy: 0.7848 - val_loss: 0.6870 - val_accuracy: 0.7986\n",
            "Epoch 4/20\n",
            "40/40 [==============================] - 2s 41ms/step - loss: 0.6829 - accuracy: 0.8098 - val_loss: 0.6814 - val_accuracy: 0.8208\n",
            "Epoch 5/20\n",
            "40/40 [==============================] - 2s 41ms/step - loss: 0.6741 - accuracy: 0.8528 - val_loss: 0.6727 - val_accuracy: 0.8237\n",
            "Epoch 6/20\n",
            "40/40 [==============================] - 1s 36ms/step - loss: 0.6610 - accuracy: 0.8606 - val_loss: 0.6592 - val_accuracy: 0.8252\n",
            "Epoch 7/20\n",
            "40/40 [==============================] - 2s 38ms/step - loss: 0.6407 - accuracy: 0.8532 - val_loss: 0.6399 - val_accuracy: 0.8233\n",
            "Epoch 8/20\n",
            "40/40 [==============================] - 1s 34ms/step - loss: 0.6155 - accuracy: 0.8530 - val_loss: 0.6172 - val_accuracy: 0.8308\n",
            "Epoch 9/20\n",
            "40/40 [==============================] - 2s 39ms/step - loss: 0.5828 - accuracy: 0.8750 - val_loss: 0.5902 - val_accuracy: 0.8352\n",
            "Epoch 10/20\n",
            "40/40 [==============================] - 4s 109ms/step - loss: 0.5475 - accuracy: 0.8796 - val_loss: 0.5623 - val_accuracy: 0.8238\n",
            "Epoch 11/20\n",
            "31/40 [======================>.......] - ETA: 0s - loss: 0.5101 - accuracy: 0.8921"
          ],
          "name": "stdout"
        }
      ]
    },
    {
      "cell_type": "code",
      "metadata": {
        "id": "J17dG3TOlV3S",
        "colab_type": "code",
        "colab": {}
      },
      "source": [
        "#plot the training history (Loss and Accuracy)\n",
        "import matplotlib.pyplot as plt\n",
        "history_dict = history.history\n",
        "loss_values = history_dict['loss']\n",
        "val_loss_values = history_dict['val_loss']\n",
        "epochs = range(1, len(loss_values) + 1)\n",
        "plt.plot(epochs, loss_values, 'bo', label='training loss')\n",
        "plt.plot(epochs, val_loss_values, 'b', label='validation loss',c='r')\n",
        "plt.title('Training and validation loss')\n",
        "plt.xlabel('Epochs')\n",
        "plt.ylabel('Loss')\n",
        "plt.legend()\n",
        "plt.show() \n",
        "\n",
        "acc_values = history_dict['accuracy']\n",
        "val_acc_values = history_dict['val_accuracy']\n",
        "plt.plot(epochs, acc_values, 'bo', label='training acc')\n",
        "plt.plot(epochs, val_acc_values, 'b', label='validation acc',c='r')\n",
        "plt.title('Training and validation accuracy')\n",
        "plt.xlabel('Epochs')\n",
        "plt.ylabel('Loss')\n",
        "plt.legend()\n",
        "plt.show()"
      ],
      "execution_count": null,
      "outputs": []
    }
  ]
}