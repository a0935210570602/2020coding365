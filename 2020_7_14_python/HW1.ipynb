{
  "nbformat": 4,
  "nbformat_minor": 0,
  "metadata": {
    "colab": {
      "name": "python介紹.ipynb",
      "provenance": []
    },
    "kernelspec": {
      "name": "python3",
      "display_name": "Python 3"
    },
    "accelerator": "GPU"
  },
  "cells": [
    {
      "cell_type": "markdown",
      "metadata": {
        "id": "Cp77nTomdXRh",
        "colab_type": "text"
      },
      "source": [
        "加法"
      ]
    },
    {
      "cell_type": "code",
      "metadata": {
        "id": "W0QsspACc9DU",
        "colab_type": "code",
        "colab": {
          "base_uri": "https://localhost:8080/",
          "height": 34
        },
        "outputId": "da5c2185-2ac4-49de-f5e3-50ef0e574757"
      },
      "source": [
        "a=1\n",
        "b=2\n",
        "a+b"
      ],
      "execution_count": null,
      "outputs": [
        {
          "output_type": "execute_result",
          "data": {
            "text/plain": [
              "3"
            ]
          },
          "metadata": {
            "tags": []
          },
          "execution_count": 1
        }
      ]
    },
    {
      "cell_type": "markdown",
      "metadata": {
        "id": "LMzKQZqgdfeg",
        "colab_type": "text"
      },
      "source": [
        "減法"
      ]
    },
    {
      "cell_type": "code",
      "metadata": {
        "id": "3zPPqTPSdcFZ",
        "colab_type": "code",
        "colab": {
          "base_uri": "https://localhost:8080/",
          "height": 34
        },
        "outputId": "f2d32352-5e5b-4d21-ea76-465a34609b1c"
      },
      "source": [
        "a=10\n",
        "b=2\n",
        "a-b"
      ],
      "execution_count": null,
      "outputs": [
        {
          "output_type": "execute_result",
          "data": {
            "text/plain": [
              "8"
            ]
          },
          "metadata": {
            "tags": []
          },
          "execution_count": 2
        }
      ]
    },
    {
      "cell_type": "markdown",
      "metadata": {
        "id": "Nqi4yDRwdueH",
        "colab_type": "text"
      },
      "source": [
        "乘法"
      ]
    },
    {
      "cell_type": "code",
      "metadata": {
        "id": "oxBEfm35dchJ",
        "colab_type": "code",
        "colab": {
          "base_uri": "https://localhost:8080/",
          "height": 34
        },
        "outputId": "6a7c42d7-2565-4d44-90f0-431a5f6868ee"
      },
      "source": [
        "a=5\n",
        "b=4\n",
        "a*b"
      ],
      "execution_count": null,
      "outputs": [
        {
          "output_type": "execute_result",
          "data": {
            "text/plain": [
              "20"
            ]
          },
          "metadata": {
            "tags": []
          },
          "execution_count": 3
        }
      ]
    },
    {
      "cell_type": "markdown",
      "metadata": {
        "id": "jRdaIh7Ddy7w",
        "colab_type": "text"
      },
      "source": [
        "除法"
      ]
    },
    {
      "cell_type": "code",
      "metadata": {
        "id": "G6HOaPWrdcsQ",
        "colab_type": "code",
        "colab": {
          "base_uri": "https://localhost:8080/",
          "height": 34
        },
        "outputId": "3d31169c-ce95-402a-d39a-e46b7920f1c5"
      },
      "source": [
        "a=20\n",
        "b=4\n",
        "a/b"
      ],
      "execution_count": null,
      "outputs": [
        {
          "output_type": "execute_result",
          "data": {
            "text/plain": [
              "5.0"
            ]
          },
          "metadata": {
            "tags": []
          },
          "execution_count": 4
        }
      ]
    },
    {
      "cell_type": "markdown",
      "metadata": {
        "id": "luJgXyHqzxJ0",
        "colab_type": "text"
      },
      "source": [
        "指數"
      ]
    },
    {
      "cell_type": "code",
      "metadata": {
        "id": "gsFZjyXAdcv5",
        "colab_type": "code",
        "colab": {
          "base_uri": "https://localhost:8080/",
          "height": 34
        },
        "outputId": "23e6509b-81a7-4c7f-ff76-5202bacc3f39"
      },
      "source": [
        "a=2\n",
        "a**5"
      ],
      "execution_count": null,
      "outputs": [
        {
          "output_type": "execute_result",
          "data": {
            "text/plain": [
              "32"
            ]
          },
          "metadata": {
            "tags": []
          },
          "execution_count": 5
        }
      ]
    },
    {
      "cell_type": "markdown",
      "metadata": {
        "id": "xV6O4R_Q0409",
        "colab_type": "text"
      },
      "source": [
        "數值資料型態"
      ]
    },
    {
      "cell_type": "code",
      "metadata": {
        "id": "eEK3tTKJdc4o",
        "colab_type": "code",
        "colab": {
          "base_uri": "https://localhost:8080/",
          "height": 85
        },
        "outputId": "be8e5d7a-2b2a-4382-bbf8-8d077c027f11"
      },
      "source": [
        "a=5\n",
        "print(a)\n",
        "print(type(a))\n",
        "b=3.8\n",
        "print(int(b))\n",
        "c=6/4\n",
        "\n",
        "int(c)"
      ],
      "execution_count": null,
      "outputs": [
        {
          "output_type": "stream",
          "text": [
            "5\n",
            "<class 'int'>\n",
            "3\n"
          ],
          "name": "stdout"
        },
        {
          "output_type": "execute_result",
          "data": {
            "text/plain": [
              "1"
            ]
          },
          "metadata": {
            "tags": []
          },
          "execution_count": 3
        }
      ]
    },
    {
      "cell_type": "markdown",
      "metadata": {
        "id": "zQZH6fif1kAp",
        "colab_type": "text"
      },
      "source": [
        "浮點數資料型態"
      ]
    },
    {
      "cell_type": "code",
      "metadata": {
        "id": "BN8yIxNedc8I",
        "colab_type": "code",
        "colab": {
          "base_uri": "https://localhost:8080/",
          "height": 68
        },
        "outputId": "318ee59f-e61f-4ee6-b4b4-e1519fe645d7"
      },
      "source": [
        "a=2.5\n",
        "print(a)\n",
        "print(type(a))\n",
        "b=70\n",
        "print(float(b))"
      ],
      "execution_count": null,
      "outputs": [
        {
          "output_type": "stream",
          "text": [
            "2.5\n",
            "<class 'float'>\n",
            "70.0\n"
          ],
          "name": "stdout"
        }
      ]
    },
    {
      "cell_type": "markdown",
      "metadata": {
        "id": "KrgHNJPC1bqG",
        "colab_type": "text"
      },
      "source": [
        "布林值資料型態"
      ]
    },
    {
      "cell_type": "code",
      "metadata": {
        "id": "RT4KoNoydc_A",
        "colab_type": "code",
        "colab": {
          "base_uri": "https://localhost:8080/",
          "height": 51
        },
        "outputId": "67f326d4-daf2-49d5-bd5c-5a64ef99fab0"
      },
      "source": [
        "a=1\n",
        "b=2\n",
        "print(a==b)\n",
        "c=2\n",
        "print(b==c)"
      ],
      "execution_count": null,
      "outputs": [
        {
          "output_type": "stream",
          "text": [
            "False\n",
            "True\n"
          ],
          "name": "stdout"
        }
      ]
    },
    {
      "cell_type": "markdown",
      "metadata": {
        "id": "0rKwNlUO2Vhu",
        "colab_type": "text"
      },
      "source": [
        "字串資料型態"
      ]
    },
    {
      "cell_type": "code",
      "metadata": {
        "id": "GNYqyhCY1PY0",
        "colab_type": "code",
        "colab": {
          "base_uri": "https://localhost:8080/",
          "height": 68
        },
        "outputId": "81cb867d-6134-4f4e-8b98-2745be2efbe1"
      },
      "source": [
        "str=\"hello,I'm supergirl.\"\n",
        "print(str)\n",
        "print(str[:5])\n",
        "str2=\"Great!!\"\n",
        "print(str+str2)"
      ],
      "execution_count": null,
      "outputs": [
        {
          "output_type": "stream",
          "text": [
            "hello,I'm supergirl.\n",
            "hello\n",
            "hello,I'm supergirl.Great!!\n"
          ],
          "name": "stdout"
        }
      ]
    },
    {
      "cell_type": "code",
      "metadata": {
        "id": "JoQMraWu2R3O",
        "colab_type": "code",
        "colab": {
          "base_uri": "https://localhost:8080/",
          "height": 35
        },
        "outputId": "fe620393-4ee1-4c1a-e87b-135ac1360671"
      },
      "source": [
        "x=48\n",
        "chr(48)\n",
        "chr(x)"
      ],
      "execution_count": null,
      "outputs": [
        {
          "output_type": "execute_result",
          "data": {
            "application/vnd.google.colaboratory.intrinsic": {
              "type": "string"
            },
            "text/plain": [
              "'0'"
            ]
          },
          "metadata": {
            "tags": []
          },
          "execution_count": 5
        }
      ]
    },
    {
      "cell_type": "markdown",
      "metadata": {
        "id": "-7i9qjJZCTm4",
        "colab_type": "text"
      },
      "source": [
        "容器資料型態"
      ]
    },
    {
      "cell_type": "code",
      "metadata": {
        "id": "owshkJ9ACSyO",
        "colab_type": "code",
        "colab": {
          "base_uri": "https://localhost:8080/",
          "height": 102
        },
        "outputId": "1a7b3c8e-db7f-4469-e572-4471b91248b0"
      },
      "source": [
        "a=[9,5,7,2]\n",
        "print(a)\n",
        "\n",
        "a.extend([7,4])\n",
        "print(a)\n",
        "a.remove(4)\n",
        "print(a)\n",
        "a.reverse()\n",
        "print(a)\n",
        "print(len(a))"
      ],
      "execution_count": null,
      "outputs": [
        {
          "output_type": "stream",
          "text": [
            "[9, 5, 7, 2]\n",
            "[9, 5, 7, 2, 7, 4]\n",
            "[9, 5, 7, 2, 7]\n",
            "[7, 2, 7, 5, 9]\n",
            "5\n"
          ],
          "name": "stdout"
        }
      ]
    },
    {
      "cell_type": "markdown",
      "metadata": {
        "id": "bcwMvXC7Y39w",
        "colab_type": "text"
      },
      "source": [
        "Q1 請試著做出可以任意輸入兩個數字的加、減、乘、除，可以分開顯示\n",
        "提示input(\"input:\")"
      ]
    },
    {
      "cell_type": "code",
      "metadata": {
        "id": "nQ_kbCxDaD6X",
        "colab_type": "code",
        "colab": {
          "base_uri": "https://localhost:8080/",
          "height": 119
        },
        "outputId": "0e2aa417-2c6b-48f6-8cdc-3a0aee19f7c2"
      },
      "source": [
        "a = int(input(\"input:\"))\n",
        "b = int(input(\"input:\"))\n",
        "print(\"加\", a+b)\n",
        "print(\"減\", a-b)\n",
        "print(\"乘\", a*b)\n",
        "print(\"除\", a/b)"
      ],
      "execution_count": 5,
      "outputs": [
        {
          "output_type": "stream",
          "text": [
            "input:10\n",
            "input:20\n",
            "加 30\n",
            "減 -10\n",
            "乘 200\n",
            "除 0.5\n"
          ],
          "name": "stdout"
        }
      ]
    },
    {
      "cell_type": "markdown",
      "metadata": {
        "id": "_vrpgdhsaEfs",
        "colab_type": "text"
      },
      "source": [
        "Q2 將上述的加減乘除出來的結果以整數、浮點數來顯示，並比較加減乘除出來的結果是否一樣，一樣為True,反之為False"
      ]
    },
    {
      "cell_type": "code",
      "metadata": {
        "id": "TktW9eNUbq-O",
        "colab_type": "code",
        "colab": {
          "base_uri": "https://localhost:8080/",
          "height": 204
        },
        "outputId": "6e0e5937-982d-41a1-8b7c-feb1ac91bfc0"
      },
      "source": [
        "a = float(input(\"input:\"))\n",
        "b = float(input(\"input:\"))\n",
        "print(\"加\", int(a)+int(b))\n",
        "print(\"加\", float(a)+float(b))\n",
        "print(int(a)+int(b) == float(a)+float(b))\n",
        "print(\"減\", int(a)-int(b))\n",
        "print(\"減\", float(a)-float(b))\n",
        "print(int(a)-int(b) == float(a)-float(b))\n",
        "print(\"乘\", int(a)*int(b))\n",
        "print(\"乘\", float(a)*float(b))\n",
        "print(int(a)*int(b) == float(a)*float(b))\n",
        "print(\"除\", int(a)/int(b))\n",
        "print(\"除\", float(a)/float(b))\n",
        "print(int(a)/int(b) == float(a)/float(b))"
      ],
      "execution_count": 15,
      "outputs": [
        {
          "output_type": "stream",
          "text": [
            "input:2.2\n",
            "input:1.1\n",
            "加 3\n",
            "加 3.3000000000000003\n",
            "False\n",
            "減 1\n",
            "減 1.1\n",
            "乘 2\n",
            "乘 2.4200000000000004\n",
            "除 2.0\n",
            "除 2.0\n"
          ],
          "name": "stdout"
        }
      ]
    },
    {
      "cell_type": "markdown",
      "metadata": {
        "id": "bsrY9DDZanVq",
        "colab_type": "text"
      },
      "source": [
        "Q3 建造一個容器a = [4,7,8,5,9,1,2,3],試著刪除裡面的3,5,4,並反向顯示a"
      ]
    },
    {
      "cell_type": "code",
      "metadata": {
        "id": "vImBpY8eAdUQ",
        "colab_type": "code",
        "colab": {}
      },
      "source": [
        "a = [4,7,8,5,9,1,2,3]\n",
        "a.remove(3)\n",
        "a.remove(5)\n",
        "a.remove(4)\n",
        "a.reverse()\n",
        "print(a)"
      ],
      "execution_count": null,
      "outputs": []
    }
  ]
}