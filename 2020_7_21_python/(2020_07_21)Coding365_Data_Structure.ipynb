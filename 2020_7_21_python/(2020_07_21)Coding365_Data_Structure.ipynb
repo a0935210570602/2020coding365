{
  "nbformat": 4,
  "nbformat_minor": 0,
  "metadata": {
    "colab": {
      "name": "(2020_07_21)Coding365_Data_Structure.ipynb",
      "provenance": [],
      "collapsed_sections": [],
      "toc_visible": true
    },
    "kernelspec": {
      "name": "python3",
      "display_name": "Python 3"
    },
    "accelerator": "GPU"
  },
  "cells": [
    {
      "cell_type": "markdown",
      "metadata": {
        "id": "NY7OURTyb77a",
        "colab_type": "text"
      },
      "source": [
        "#**Python Data Structure**\n",
        "\n"
      ]
    },
    {
      "cell_type": "markdown",
      "metadata": {
        "id": "CONewe1ctHFf",
        "colab_type": "text"
      },
      "source": [
        "#**Data Types**"
      ]
    },
    {
      "cell_type": "markdown",
      "metadata": {
        "id": "wWgsIkcxModi",
        "colab_type": "text"
      },
      "source": [
        "##**Numeric Data Types**"
      ]
    },
    {
      "cell_type": "code",
      "metadata": {
        "id": "b8Ulw1iWNH3n",
        "colab_type": "code",
        "colab": {
          "base_uri": "https://localhost:8080/",
          "height": 118
        },
        "outputId": "3d9ac098-72d9-4901-8f0c-934bb5959042"
      },
      "source": [
        "#Integer\n",
        "num=10\n",
        "print(num,' Data Type：',type(num))\n",
        "print(int(7/2))\n",
        "print()\n",
        "\n",
        "#Float\n",
        "float1=10.0\n",
        "print(float1,' Data Type：',type(float1))\n",
        "print()\n",
        "\n",
        "#Boolean\n",
        "bool=False\n",
        "print(bool,' Data Type：',type(bool))\n",
        "\n"
      ],
      "execution_count": null,
      "outputs": [
        {
          "output_type": "stream",
          "text": [
            "10  Data Type： <class 'int'>\n",
            "3\n",
            "\n",
            "10.0  Data Type： <class 'float'>\n",
            "\n",
            "False  Data Type： <class 'bool'>\n"
          ],
          "name": "stdout"
        }
      ]
    },
    {
      "cell_type": "markdown",
      "metadata": {
        "id": "-NH9bHN7uEIW",
        "colab_type": "text"
      },
      "source": [
        "##**String Data Types**"
      ]
    },
    {
      "cell_type": "markdown",
      "metadata": {
        "id": "mXjS89ctgoz6",
        "colab_type": "text"
      },
      "source": [
        "![alt text](http://kevin.hwai.edu.tw/~kevin/material/JAVA/Sample2016/ASCII.gif)"
      ]
    },
    {
      "cell_type": "code",
      "metadata": {
        "id": "NLBb3A-dtqtp",
        "colab_type": "code",
        "colab": {}
      },
      "source": [
        "#String\n",
        "print('String:')\n",
        "str1='Hello'\n",
        "str2=\"Hello\"\n",
        "print('str1 Data type:',type(str1))\n",
        "print('1:',\"str1 is as same as str2?\",str1==str2) #(\"\") is as same as ('')\n",
        "print('2:',\"Hi\\n\",str2)  #(\\n) can switch to the next line\n",
        "print('3:',\"Hi\\t\",str1)  #(\\t) = tab on keyboard \n",
        "print('4:','I\\'m a supergirl.') #(I\\'m) = I'm\n",
        "print()\n",
        "\n",
        "#Character \n",
        "print('character:')\n",
        "b=66\n",
        "print(b,'in char is',chr(70))\n"
      ],
      "execution_count": null,
      "outputs": []
    },
    {
      "cell_type": "markdown",
      "metadata": {
        "id": "2SjyFRbWup81",
        "colab_type": "text"
      },
      "source": [
        "##**Container Types**"
      ]
    },
    {
      "cell_type": "code",
      "metadata": {
        "id": "SUFWTnuyuK1Q",
        "colab_type": "code",
        "colab": {
          "base_uri": "https://localhost:8080/",
          "height": 621
        },
        "outputId": "f9bd0f38-bc78-41b2-e5df-d4841f74849b"
      },
      "source": [
        "#List\n",
        "print('List:')\n",
        "list1=[1,3,5,7,9,2,4,6,8,1]\n",
        "print('list1:',list1)\n",
        "print('list1 Data Type:',type(list1))\n",
        "list1.append(10) #add 10 to list1's tail\n",
        "print('list1:',list1) \n",
        "list1.extend([11,999])  #add the element in [] to list1's tail\n",
        "print('list1:',list1)\n",
        "print('list1:',list1.count(1)) #count 1 of times in list1\n",
        "list1.insert(1,2) #add 2 to the location of list1[1] \n",
        "print('list1:',list1)\n",
        "list1.remove(11) #remove 11 in list1\n",
        "print('list1:',list1)\n",
        "list1.reverse() #reverse list1\n",
        "print('list1:',list1)\n",
        "print()\n",
        "\n",
        "#Tuple\n",
        "print('Tuple:')\n",
        "tuple1=(1,3,5,7)\n",
        "print(tuple1,'tuple1 data type:',type(tuple1))\n",
        "print(tuple1[1:])\n",
        "print()\n",
        "\n",
        "#Set\n",
        "print('Set:')\n",
        "A={'A','B','C'}\n",
        "B={'B','C','D'}\n",
        "C={'A','A','B'}\n",
        "print('A:',A,' B:',B)\n",
        "print('A Data Type:',type(A))\n",
        "print('C:',C)\n",
        "print('B' in A) #existed?\n",
        "print('C' not in B) #not existed?\n",
        "print(A & B)  #and\n",
        "print(A | B)  #or\n",
        "print(A - B)  #sub\n",
        "print(A ^ B)  #XOR\n",
        "print(A > B)  #B belongs in A\n",
        "print(A < B)  #A belongs in B\n",
        "print()\n",
        "\n",
        "#Dictionary\n",
        "print('Dictionary:')\n",
        "data={'Wang':12309,'Lin':10126}\n",
        "print(data['Wang'])\n",
        "data['cheng'] = 30335\n",
        "print(data)\n",
        "del data['cheng']\n",
        "print(data)\n",
        "print(data.items())\n",
        "print(data.keys())\n",
        "print(data.values())"
      ],
      "execution_count": null,
      "outputs": [
        {
          "output_type": "stream",
          "text": [
            "List:\n",
            "list1: [1, 3, 5, 7, 9, 2, 4, 6, 8, 1]\n",
            "list1 Data Type: <class 'list'>\n",
            "list1: [1, 3, 5, 7, 9, 2, 4, 6, 8, 1, 10]\n",
            "list1: [1, 3, 5, 7, 9, 2, 4, 6, 8, 1, 10, 11, 999]\n",
            "list1: 2\n",
            "list1: [1, 2, 3, 5, 7, 9, 2, 4, 6, 8, 1, 10, 11, 999]\n",
            "list1: [1, 2, 3, 5, 7, 9, 2, 4, 6, 8, 1, 10, 999]\n",
            "list1: [999, 10, 1, 8, 6, 4, 2, 9, 7, 5, 3, 2, 1]\n",
            "\n",
            "Tuple:\n",
            "(1, 3, 5, 7) tuple1 data type: <class 'tuple'>\n",
            "(3, 5, 7)\n",
            "\n",
            "Set:\n",
            "A: {'B', 'A', 'C'}  B: {'B', 'D', 'C'}\n",
            "A Data Type: <class 'set'>\n",
            "C: {'B', 'A'}\n",
            "True\n",
            "False\n",
            "{'B', 'C'}\n",
            "{'A', 'C', 'B', 'D'}\n",
            "{'A'}\n",
            "{'D', 'A'}\n",
            "False\n",
            "False\n",
            "\n",
            "Dictionary:\n",
            "12309\n",
            "{'Wang': 12309, 'Lin': 10126, 'cheng': 30335}\n",
            "{'Wang': 12309, 'Lin': 10126}\n",
            "dict_items([('Wang', 12309), ('Lin', 10126)])\n",
            "dict_keys(['Wang', 'Lin'])\n",
            "dict_values([12309, 10126])\n"
          ],
          "name": "stdout"
        }
      ]
    },
    {
      "cell_type": "markdown",
      "metadata": {
        "id": "2I01LGDf0NGr",
        "colab_type": "text"
      },
      "source": [
        "#**Algorithm**"
      ]
    },
    {
      "cell_type": "markdown",
      "metadata": {
        "id": "cG5BB9kQIgWr",
        "colab_type": "text"
      },
      "source": [
        "##**Insertion Sort**"
      ]
    },
    {
      "cell_type": "code",
      "metadata": {
        "id": "tP13ESyknMn5",
        "colab_type": "code",
        "colab": {
          "base_uri": "https://localhost:8080/",
          "height": 118
        },
        "outputId": "57b1d27f-a7b2-4e7c-bb5c-65a6a8317479"
      },
      "source": [
        "#Insertion sort\n",
        "A = [5 ,2, 4, 6, 1, 3]\n",
        "print(A)\n",
        "for i in range(1, len(A)):  #The first element is setted.Starting from thhe second element\n",
        "  data = A[i]     #data is an inserted data\n",
        "  j = i - 1       #The number of fixed element\n",
        "  while j >= 0 and A[j] > data :\n",
        "    A[j + 1] = A[j]     #data is moved to right.\n",
        "    j = j - 1\n",
        "    A[ j + 1 ] = data\n",
        "  print(\"step\", i, \": \", A)"
      ],
      "execution_count": null,
      "outputs": [
        {
          "output_type": "stream",
          "text": [
            "[5, 2, 4, 6, 1, 3]\n",
            "step 1 :  [2, 5, 4, 6, 1, 3]\n",
            "step 2 :  [2, 4, 5, 6, 1, 3]\n",
            "step 3 :  [2, 4, 5, 6, 1, 3]\n",
            "step 4 :  [1, 2, 4, 5, 6, 3]\n",
            "step 5 :  [1, 2, 3, 4, 5, 6]\n"
          ],
          "name": "stdout"
        }
      ]
    },
    {
      "cell_type": "markdown",
      "metadata": {
        "id": "iLMuzEQPKnja",
        "colab_type": "text"
      },
      "source": [
        "##**Bubble Sort**"
      ]
    },
    {
      "cell_type": "code",
      "metadata": {
        "id": "vTFdPr_9noXJ",
        "colab_type": "code",
        "colab": {
          "base_uri": "https://localhost:8080/",
          "height": 235
        },
        "outputId": "dca4c4a2-4667-47c2-ce56-4641d5852914"
      },
      "source": [
        "#Bubble Sort\n",
        "A = [7,6,4,1,3]\n",
        "print(A)\n",
        "\n",
        "for i in range(len(A)):\n",
        "  count=0\n",
        "  for j in range(0,len(A)-i-1):\n",
        "    if A[j] > A[j+1]:\n",
        "      a = A[j]\n",
        "      A[j]=A[j+1]\n",
        "      A[j+1]=a\n",
        "      count=1\n",
        "      print(A)\n",
        "  if count == 1:\n",
        "    print('step',i+1,':',A)\n",
        "  else:\n",
        "    exit"
      ],
      "execution_count": null,
      "outputs": [
        {
          "output_type": "stream",
          "text": [
            "[7, 6, 4, 1, 3]\n",
            "[6, 7, 4, 1, 3]\n",
            "[6, 4, 7, 1, 3]\n",
            "[6, 4, 1, 7, 3]\n",
            "[6, 4, 1, 3, 7]\n",
            "step 1 : [6, 4, 1, 3, 7]\n",
            "[4, 6, 1, 3, 7]\n",
            "[4, 1, 6, 3, 7]\n",
            "[4, 1, 3, 6, 7]\n",
            "step 2 : [4, 1, 3, 6, 7]\n",
            "[1, 4, 3, 6, 7]\n",
            "[1, 3, 4, 6, 7]\n",
            "step 3 : [1, 3, 4, 6, 7]\n"
          ],
          "name": "stdout"
        }
      ]
    },
    {
      "cell_type": "markdown",
      "metadata": {
        "id": "iaiiZEU21GBA",
        "colab_type": "text"
      },
      "source": [
        "#**Practice**"
      ]
    },
    {
      "cell_type": "markdown",
      "metadata": {
        "id": "pkqOzZS1TUwp",
        "colab_type": "text"
      },
      "source": [
        "A = [3,7,1,2,5,9],please remove 5 and add 6 and use insertion sort to print it"
      ]
    },
    {
      "cell_type": "code",
      "metadata": {
        "id": "6Hi7tkFvTVef",
        "colab_type": "code",
        "colab": {
          "base_uri": "https://localhost:8080/",
          "height": 124
        },
        "outputId": "24045dbb-ad11-4503-bbe1-9d6592746bf2"
      },
      "source": [
        "A=[3,7,1,2,5,9]\n",
        "A.remove(5)\n",
        "A.append(6)\n",
        "print(A)\n",
        "for i in range(1, len(A)):  #The first element is setted.Starting from thhe second element\n",
        "  data = A[i]     #data is an inserted data\n",
        "  j = i - 1       #The number of fixed element\n",
        "  while j >= 0 and A[j] > data :\n",
        "    A[j + 1] = A[j]     #data is moved to right.\n",
        "    j = j - 1\n",
        "    A[ j + 1 ] = data\n",
        "  print(\"step\", i, \": \", A)"
      ],
      "execution_count": null,
      "outputs": [
        {
          "output_type": "stream",
          "text": [
            "[3, 7, 1, 2, 9, 6]\n",
            "step 1 :  [3, 7, 1, 2, 9, 6]\n",
            "step 2 :  [1, 3, 7, 2, 9, 6]\n",
            "step 3 :  [1, 2, 3, 7, 9, 6]\n",
            "step 4 :  [1, 2, 3, 7, 9, 6]\n",
            "step 5 :  [1, 2, 3, 6, 7, 9]\n"
          ],
          "name": "stdout"
        }
      ]
    },
    {
      "cell_type": "markdown",
      "metadata": {
        "id": "9vk4_w7pTWSm",
        "colab_type": "text"
      },
      "source": [
        "A = {1,2,3,4,5,6} B = {3,6},try to print (A or B),(A and B),(A - B),(B belongs to A?)"
      ]
    },
    {
      "cell_type": "code",
      "metadata": {
        "id": "ess_Z0yLRFYo",
        "colab_type": "code",
        "colab": {
          "base_uri": "https://localhost:8080/",
          "height": 106
        },
        "outputId": "8d35a4b7-32bb-4661-e223-4c8f45cbdc38"
      },
      "source": [
        "A={1,2,3,4,5,6}\n",
        "B={3,6}\n",
        "print(type(A))\n",
        "print(\"A or B = \",A | B)  #and\n",
        "print(\"A and B = \",A & B)  #or\n",
        "print(\"A - B = \",A - B)  #sub\n",
        "print(\"B belongs to A? \",A > B)  #B belongs in A"
      ],
      "execution_count": null,
      "outputs": [
        {
          "output_type": "stream",
          "text": [
            "<class 'set'>\n",
            "A or B =  {1, 2, 3, 4, 5, 6}\n",
            "A and B =  {3, 6}\n",
            "A - B =  {1, 2, 4, 5}\n",
            "B belongs to A?  True\n"
          ],
          "name": "stdout"
        }
      ]
    },
    {
      "cell_type": "markdown",
      "metadata": {
        "id": "AQl5tBj8WAq8",
        "colab_type": "text"
      },
      "source": [
        "## Please "
      ]
    },
    {
      "cell_type": "code",
      "metadata": {
        "id": "u-N4XCn0aVmg",
        "colab_type": "code",
        "colab": {}
      },
      "source": [
        "A=[3,1,8,7,45,11,22,6,87,4,59,36,46,44] \n",
        "count = 0\n",
        "for i in range(0, len(A)-1):\n",
        "  for j in range(i+1, len(A)):\n",
        "    if A[j] < A[i]:\n",
        "      b=A[j]\n",
        "      A[j]=A[i]\n",
        "      A[i]=b\n",
        "      count +=1\n",
        "      print(count,\" step\",A)\n",
        "A=tuple(A)\n",
        "print(A,type(A))"
      ],
      "execution_count": null,
      "outputs": []
    }
  ]
}